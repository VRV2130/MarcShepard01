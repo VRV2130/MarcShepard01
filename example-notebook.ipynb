{
 "cells": [
  {
   "cell_type": "code",
   "execution_count": 2,
   "metadata": {},
   "outputs": [
    {
     "name": "stdout",
     "output_type": "stream",
     "text": [
      "Weather in nellore, india:\n",
      "----------------------------\n",
      "+-------------+-----------------+\n",
      "| Attribute   | Value           |\n",
      "+=============+=================+\n",
      "| Main        | Clouds          |\n",
      "+-------------+-----------------+\n",
      "| Description | overcast clouds |\n",
      "+-------------+-----------------+\n",
      "| Temperature | 38.93°C         |\n",
      "+-------------+-----------------+\n",
      "| Humidity    | 32%             |\n",
      "+-------------+-----------------+\n",
      "| Wind Speed  | 8.9 m/s         |\n",
      "+-------------+-----------------+\n"
     ]
    }
   ],
   "source": [
    "import requests\n",
    "from tabulate import tabulate\n",
    "\n",
    "api_key = 'e0fd96f267a7c01a2e089a841f1fd1c8' \n",
    "\n",
    "def get_weather(country, city):\n",
    "    url = f'http://api.openweathermap.org/data/2.5/weather?q={city},{country}&appid={api_key}&units=metric'\n",
    "    response = requests.get(url)\n",
    "    data = response.json()\n",
    "\n",
    "    if response.status_code == 200:\n",
    "        main_weather = data['weather'][0]['main']\n",
    "        description = data['weather'][0]['description']\n",
    "        temperature = data['main']['temp']\n",
    "        humidity = data['main']['humidity']\n",
    "        wind_speed = data['wind']['speed']\n",
    "\n",
    "        print(f\"Weather in {city}, {country}:\")\n",
    "        print(\"----------------------------\")\n",
    "        weather_data = [\n",
    "            ['Main', main_weather],\n",
    "            ['Description', description],\n",
    "            ['Temperature', f\"{temperature}°C\"],\n",
    "            ['Humidity', f\"{humidity}%\"],\n",
    "            ['Wind Speed', f\"{wind_speed} m/s\"]\n",
    "        ]\n",
    "        print(tabulate(weather_data, headers=['Attribute', 'Value'], tablefmt='grid'))\n",
    "    \n",
    "    else:\n",
    "        print(\"Failed to fetch weather data.\")\n",
    "        print(response.status_code)\n",
    "        print(response.content)\n",
    "\n",
    "while True:\n",
    "    countryU = input(\"Enter the country: \")\n",
    "    cityU = input(\"Enter the city: \")\n",
    "\n",
    "    get_weather(countryU, cityU)\n",
    "\n",
    "    choice = input(\"Do you want to check weather for another location? (y/n): \")\n",
    "    if choice.lower() != 'y':\n",
    "        break\n"
   ]
  },
  {
   "cell_type": "markdown",
   "metadata": {},
   "source": []
  }
 ],
 "metadata": {
  "kernelspec": {
   "display_name": "Python 3",
   "language": "python",
   "name": "python3"
  },
  "language_info": {
   "codemirror_mode": {
    "name": "ipython",
    "version": 3
   },
   "file_extension": ".py",
   "mimetype": "text/x-python",
   "name": "python",
   "nbconvert_exporter": "python",
   "pygments_lexer": "ipython3",
   "version": "3.10.4"
  },
  "orig_nbformat": 4
 },
 "nbformat": 4,
 "nbformat_minor": 2
}
